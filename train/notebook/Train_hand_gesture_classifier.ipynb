{
 "cells": [
  {
   "cell_type": "code",
   "execution_count": null,
   "id": "81a02e72",
   "metadata": {
    "scrolled": true
   },
   "outputs": [],
   "source": [
    "# TensorFlow and tf.keras\n",
    "import tensorflow as tf\n",
    "from tensorflow import keras\n",
    "# Import of keras model and hidden layers for our convolutional network\n",
    "from tensorflow.keras.models import Sequential\n",
    "from tensorflow.keras.layers import Conv2D, MaxPooling2D, GlobalAveragePooling2D\n",
    "from tensorflow.keras.layers import Dense, Flatten, Input, BatchNormalization, Dropout\n",
    "from tensorflow.keras.layers.experimental import preprocessing\n",
    "\n",
    "print(tf.__version__)"
   ]
  },
  {
   "cell_type": "markdown",
   "id": "af115b77",
   "metadata": {},
   "source": [
    "Model trained in two categories fist, and palm. \n",
    "Trained on samples cutted from \n"
   ]
  },
  {
   "cell_type": "code",
   "execution_count": null,
   "id": "9d18dc16",
   "metadata": {},
   "outputs": [],
   "source": [
    "batch_size = 16\n",
    "img_size = (128,128)\n",
    "NUM_CLASSES = 2\n",
    "\n",
    "train_datagen = tf.keras.preprocessing.image.ImageDataGenerator(\n",
    "    rotation_range=45,\n",
    "    width_shift_range=[-20,20],\n",
    "    height_shift_range=[-20,20],\n",
    "    brightness_range=None,\n",
    "    shear_range=0.0,\n",
    "    zoom_range=[0.8,1.2],\n",
    "    channel_shift_range=0.0,\n",
    "    fill_mode='nearest',\n",
    "    cval=0.0,\n",
    "    horizontal_flip=False,\n",
    "    vertical_flip=True,\n",
    "    rescale=None,\n",
    "    preprocessing_function=None,\n",
    "    data_format=None,\n",
    "    validation_split=0.0,\n",
    "    dtype=None\n",
    ")\n",
    "valid_datagen = tf.keras.preprocessing.image.ImageDataGenerator(\n",
    "    rotation_range=90,\n",
    "    width_shift_range=[-20,20],\n",
    "    height_shift_range=[-20,20],\n",
    "    brightness_range=[0.8,1.2],\n",
    "    shear_range=0.0,\n",
    "    zoom_range=[0.8,1.2],\n",
    "    channel_shift_range=0.0,\n",
    "    fill_mode='nearest',\n",
    "    cval=0.0,\n",
    "    horizontal_flip=True,\n",
    "    vertical_flip=True,\n",
    "    rescale=None,\n",
    "    preprocessing_function=None,\n",
    "    data_format=None,\n",
    "    validation_split=0.0,\n",
    "    dtype=None)\n",
    "test_datagen = tf.keras.preprocessing.image.ImageDataGenerator()\n",
    "\n",
    "\n",
    "train_generator = train_datagen.flow_from_directory(\n",
    "    directory='../../DATA/data/hands/train/images',\n",
    "    shuffle=True,\n",
    "    target_size=img_size,\n",
    "    color_mode='rgb',\n",
    "    batch_size=batch_size)\n",
    "print('Train generator created\\n')\n",
    "\n",
    "valid_generator = valid_datagen.flow_from_directory(\n",
    "    directory='../../DATA/data/hands/valid/images',\n",
    "    shuffle=True,\n",
    "    target_size=img_size,\n",
    "    color_mode='rgb',\n",
    "    batch_size=batch_size)\n",
    "print('Valid generator created\\n')\n",
    "\n",
    "\n",
    "test_generator = test_datagen.flow_from_directory(\n",
    "    directory = '../../DATA/data/hands/test/images',\n",
    "    shuffle = True,\n",
    "    target_size = img_size,\n",
    "    color_mode='rgb',\n",
    "    batch_size=batch_size\n",
    "\n",
    ")\n",
    "print('Train generator created\\n')"
   ]
  },
  {
   "cell_type": "code",
   "execution_count": null,
   "id": "4e2e5db0",
   "metadata": {},
   "outputs": [],
   "source": [
    "print(next(train_generator)[0].shape)"
   ]
  },
  {
   "cell_type": "code",
   "execution_count": null,
   "id": "5664e5de",
   "metadata": {},
   "outputs": [],
   "source": [
    "model.evaluate(test_generator)"
   ]
  },
  {
   "cell_type": "code",
   "execution_count": null,
   "id": "b0721e43",
   "metadata": {},
   "outputs": [],
   "source": [
    "model.save('trained_palm_fist.h5')\n"
   ]
  },
  {
   "cell_type": "code",
   "execution_count": null,
   "id": "e8f79333",
   "metadata": {},
   "outputs": [],
   "source": [
    "from tensorflow.keras.applications import EfficientNetB0\n",
    "\n",
    "\n",
    "def build_model(num_classes):\n",
    "    model = EfficientNetB0(include_top=False,input_shape=(128,128,3), weights=\"imagenet\")\n",
    "    inputs = model.input\n",
    "    # Freeze the pretrained weights\n",
    "    model.trainable = False\n",
    "\n",
    "    # Rebuild top\n",
    "    x = GlobalAveragePooling2D(name=\"avg_pool\")(model.output)\n",
    "    x = BatchNormalization()(x)\n",
    "\n",
    "    top_dropout_rate = 0.2\n",
    "    x = Dropout(top_dropout_rate, name=\"top_dropout\")(x)\n",
    "    outputs = Dense(NUM_CLASSES, activation=\"softmax\", name=\"pred\")(x)\n",
    "\n",
    "    # Compile\n",
    "    model = tf.keras.Model(inputs, outputs, name=\"EfficientNet\")\n",
    "    optimizer = tf.keras.optimizers.Adam()\n",
    "    loss = tf.keras.losses.CategoricalCrossentropy()\n",
    "\n",
    "    model.compile(\n",
    "        optimizer=optimizer, loss=loss, metrics=[\"accuracy\"]\n",
    "    )\n",
    "    return model"
   ]
  },
  {
   "cell_type": "code",
   "execution_count": null,
   "id": "ccdb6642",
   "metadata": {},
   "outputs": [],
   "source": [
    "\n",
    "model = build_model(num_classes=NUM_CLASSES)\n"
   ]
  },
  {
   "cell_type": "code",
   "execution_count": null,
   "id": "bb6d81ae",
   "metadata": {
    "scrolled": true
   },
   "outputs": [],
   "source": [
    "model.summary()"
   ]
  },
  {
   "cell_type": "code",
   "execution_count": null,
   "id": "dee865fd",
   "metadata": {},
   "outputs": [],
   "source": [
    "import matplotlib.pyplot as plt\n",
    "\n",
    "\n",
    "def plot_hist(hist):\n",
    "    plt.plot(hist.history[\"accuracy\"])\n",
    "    plt.plot(hist.history[\"val_accuracy\"])\n",
    "    plt.title(\"model accuracy\")\n",
    "    plt.ylabel(\"accuracy\")\n",
    "    plt.xlabel(\"epoch\")\n",
    "    plt.legend([\"train\", \"validation\"], loc=\"upper left\")\n",
    "    plt.show()\n"
   ]
  },
  {
   "cell_type": "code",
   "execution_count": null,
   "id": "21e5f023",
   "metadata": {},
   "outputs": [],
   "source": [
    "steps_per_epoch = train_generator.n // batch_size\n",
    "validation_steps = valid_generator.n // batch_size\n",
    "\n",
    "\n",
    "epochs = 10 \n",
    "hist = model.fit(train_generator,epochs=epochs,validation_data=valid_generator, verbose=2)\n",
    "plot_hist(hist)"
   ]
  },
  {
   "cell_type": "code",
   "execution_count": null,
   "id": "7ae13612",
   "metadata": {},
   "outputs": [],
   "source": [
    "def unfreeze_model(model):\n",
    "    # We unfreeze the top 20 layers while leaving BatchNorm layers frozen\n",
    "    for layer in model.layers[-20:]:\n",
    "        if not isinstance(layer, BatchNormalization):\n",
    "            layer.trainable = True\n",
    "\n",
    "    optimizer = tf.keras.optimizers.Adam(learning_rate=1e-4)\n",
    "    loss = tf.keras.losses.CategoricalCrossentropy()\n",
    "\n",
    "    model.compile(\n",
    "        optimizer=optimizer, loss=loss, metrics=[\"accuracy\"]\n",
    "    )\n",
    "\n",
    "\n",
    "unfreeze_model(model)\n",
    "\n",
    "epochs = 10 \n",
    "hist = model.fit(train_generator,epochs=epochs,validation_data=valid_generator, verbose=2)"
   ]
  },
  {
   "cell_type": "code",
   "execution_count": null,
   "id": "f09c395b",
   "metadata": {},
   "outputs": [],
   "source": [
    "model.save('trained_EfficientNetB0_palm_fist.h5')\n"
   ]
  },
  {
   "cell_type": "code",
   "execution_count": null,
   "id": "ae306835",
   "metadata": {},
   "outputs": [],
   "source": [
    "model.evaluate(test_generator)"
   ]
  },
  {
   "cell_type": "code",
   "execution_count": null,
   "id": "2f68b40b",
   "metadata": {},
   "outputs": [],
   "source": []
  }
 ],
 "metadata": {
  "kernelspec": {
   "display_name": "Python 3",
   "language": "python",
   "name": "python3"
  },
  "language_info": {
   "codemirror_mode": {
    "name": "ipython",
    "version": 3
   },
   "file_extension": ".py",
   "mimetype": "text/x-python",
   "name": "python",
   "nbconvert_exporter": "python",
   "pygments_lexer": "ipython3",
   "version": "3.8.5"
  }
 },
 "nbformat": 4,
 "nbformat_minor": 5
}
