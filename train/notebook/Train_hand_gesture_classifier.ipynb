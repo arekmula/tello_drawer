{
 "cells": [
  {
   "cell_type": "code",
   "execution_count": 1,
   "id": "81a02e72",
   "metadata": {
    "scrolled": true
   },
   "outputs": [
    {
     "name": "stdout",
     "output_type": "stream",
     "text": [
      "2.4.1\n"
     ]
    }
   ],
   "source": [
    "# TensorFlow and tf.keras\n",
    "import tensorflow as tf\n",
    "from tensorflow import keras\n",
    "# Import of keras model and hidden layers for our convolutional network\n",
    "from tensorflow.keras.models import Sequential\n",
    "from tensorflow.keras.layers import Conv2D, MaxPooling2D\n",
    "from tensorflow.keras.layers import Dense, Flatten\n",
    "\n",
    "print(tf.__version__)"
   ]
  },
  {
   "cell_type": "markdown",
   "id": "af115b77",
   "metadata": {},
   "source": [
    "Model trained in two categories fist, and palm. \n",
    "Trained on https://www.kaggle.com/gti-upm/leapgestrecog/version/1\n"
   ]
  },
  {
   "cell_type": "code",
   "execution_count": 4,
   "id": "9d18dc16",
   "metadata": {},
   "outputs": [
    {
     "name": "stdout",
     "output_type": "stream",
     "text": [
      "Found 5040 images belonging to 2 classes.\n",
      "Train generator created\n",
      "\n",
      "Found 2160 images belonging to 2 classes.\n",
      "Valid generator created\n",
      "\n",
      "Found 799 images belonging to 2 classes.\n",
      "Train generator created\n",
      "\n"
     ]
    }
   ],
   "source": [
    "batch_size = 64\n",
    "img_size = (128,128,1)\n",
    "\n",
    "\n",
    "_datagen = tf.keras.preprocessing.image.ImageDataGenerator(\n",
    "    rescale=1. / 255.,\n",
    "    validation_split=0.3\n",
    ")\n",
    "test_datagen = tf.keras.preprocessing.image.ImageDataGenerator(\n",
    "    rescale=1. / 255.,\n",
    ")\n",
    "\n",
    "\n",
    "train_generator = _datagen.flow_from_directory(\n",
    "    directory='../../../DATA/data/train/images',\n",
    "    shuffle=True,\n",
    "    target_size=(img_size[0],img_size[1]),\n",
    "    subset=\"training\",\n",
    "    color_mode='grayscale',\n",
    "    batch_size=batch_size)\n",
    "print('Train generator created\\n')\n",
    "\n",
    "valid_generator = _datagen.flow_from_directory(\n",
    "    directory='../../../DATA/data/train/images',\n",
    "    shuffle=True,\n",
    "    target_size=img_size,\n",
    "    subset=\"validation\",\n",
    "    color_mode='grayscale',\n",
    "    batch_size=batch_size)\n",
    "print('Valid generator created\\n')\n",
    "\n",
    "\n",
    "test_generator = test_datagen.flow_from_directory(\n",
    "    directory = '../../../DATA/data/test/images',\n",
    "    shuffle = True,\n",
    "    target_size = (img_size[0],img_size[1]),\n",
    "    color_mode='grayscale',\n",
    "    batch_size=batch_size*4\n",
    "\n",
    ")\n",
    "print('Train generator created\\n')"
   ]
  },
  {
   "cell_type": "code",
   "execution_count": 3,
   "id": "7ae8c713",
   "metadata": {
    "scrolled": true
   },
   "outputs": [
    {
     "ename": "SyntaxError",
     "evalue": "invalid syntax (<ipython-input-3-77891a198b72>, line 4)",
     "output_type": "error",
     "traceback": [
      "\u001b[0;36m  File \u001b[0;32m\"<ipython-input-3-77891a198b72>\"\u001b[0;36m, line \u001b[0;32m4\u001b[0m\n\u001b[0;31m    model.add(MaxPooling2D((2, 2)))\u001b[0m\n\u001b[0m    ^\u001b[0m\n\u001b[0;31mSyntaxError\u001b[0m\u001b[0;31m:\u001b[0m invalid syntax\n"
     ]
    }
   ],
   "source": [
    "# Construction of model\n",
    "model = Sequential()\n",
    "model.add(Conv2D(32, (5, 5), activation='relu', input_shape=img_size) \n",
    "model.add(MaxPooling2D((2, 2)))\n",
    "model.add(Conv2D(64, (3, 3), activation='relu')) \n",
    "model.add(MaxPooling2D((2, 2)))\n",
    "model.add(Conv2D(64, (3, 3), activation='relu'))\n",
    "model.add(MaxPooling2D((2, 2)))\n",
    "model.add(Conv2D(64, (3, 3), activation='relu')) \n",
    "model.add(MaxPooling2D((2, 2)))\n",
    "model.add(Conv2D(64, (3, 3), activation='relu'))\n",
    "model.add(MaxPooling2D((2, 2)))\n",
    "model.add(Flatten())\n",
    "model.add(Dense(128, activation='relu'))\n",
    "model.add(Dense(2, activation='softmax'))\n",
    "\n",
    "# Configures the model for training\n",
    "model.compile(optimizer='adam', # Optimization routine, which tells the computer how to adjust the parameter values to minimize the loss function.\n",
    "              loss=tf.keras.losses.BinaryCrossentropy(), # Loss function, which tells us how bad our predictions are.\n",
    "              metrics=['accuracy']) # List of metrics to be evaluated by the model during training and testing.\n",
    "\n",
    "model.summary()\n"
   ]
  },
  {
   "cell_type": "code",
   "execution_count": 10,
   "id": "93f2582c",
   "metadata": {},
   "outputs": [
    {
     "name": "stdout",
     "output_type": "stream",
     "text": [
      "Epoch 1/5\n",
      "78/78 [==============================] - 109s 1s/step - loss: 0.3478 - accuracy: 0.8138 - val_loss: 3.7948e-04 - val_accuracy: 1.0000\n",
      "Epoch 2/5\n",
      "78/78 [==============================] - 111s 1s/step - loss: 0.0049 - accuracy: 0.9989 - val_loss: 7.1825e-05 - val_accuracy: 1.0000\n",
      "Epoch 3/5\n",
      "78/78 [==============================] - 107s 1s/step - loss: 5.0550e-05 - accuracy: 1.0000 - val_loss: 0.0020 - val_accuracy: 1.0000\n",
      "Epoch 4/5\n",
      "78/78 [==============================] - 128s 2s/step - loss: 7.7441e-05 - accuracy: 1.0000 - val_loss: 8.8576e-05 - val_accuracy: 1.0000\n",
      "Epoch 5/5\n",
      "78/78 [==============================] - 135s 2s/step - loss: 1.0676e-05 - accuracy: 1.0000 - val_loss: 9.9460e-05 - val_accuracy: 1.0000\n"
     ]
    }
   ],
   "source": [
    "steps_per_epoch = train_generator.n // batch_size\n",
    "validation_steps = valid_generator.n // batch_size\n",
    "\n",
    "training = model.fit(train_generator,\n",
    "                               epochs=5,\n",
    "                               steps_per_epoch=steps_per_epoch,\n",
    "                               validation_data=valid_generator,\n",
    "                               validation_steps=validation_steps,\n",
    "                               verbose=1\n",
    "                               )\n"
   ]
  },
  {
   "cell_type": "code",
   "execution_count": 21,
   "id": "5664e5de",
   "metadata": {},
   "outputs": [
    {
     "name": "stdout",
     "output_type": "stream",
     "text": [
      "4/4 [==============================] - 5s 1s/step - loss: 2.4188e-05 - accuracy: 1.0000\n"
     ]
    },
    {
     "data": {
      "text/plain": [
       "[2.4188415409298614e-05, 1.0]"
      ]
     },
     "execution_count": 21,
     "metadata": {},
     "output_type": "execute_result"
    }
   ],
   "source": [
    "model.evaluate(test_generator)"
   ]
  },
  {
   "cell_type": "code",
   "execution_count": 20,
   "id": "b0721e43",
   "metadata": {},
   "outputs": [],
   "source": [
    "model.save('trained_palm_fist.h5')\n"
   ]
  },
  {
   "cell_type": "code",
   "execution_count": null,
   "id": "5b058354",
   "metadata": {},
   "outputs": [],
   "source": []
  }
 ],
 "metadata": {
  "kernelspec": {
   "display_name": "Python 3",
   "language": "python",
   "name": "python3"
  },
  "language_info": {
   "codemirror_mode": {
    "name": "ipython",
    "version": 3
   },
   "file_extension": ".py",
   "mimetype": "text/x-python",
   "name": "python",
   "nbconvert_exporter": "python",
   "pygments_lexer": "ipython3",
   "version": "3.8.5"
  }
 },
 "nbformat": 4,
 "nbformat_minor": 5
}
